{
  "nbformat": 4,
  "nbformat_minor": 0,
  "metadata": {
    "colab": {
      "name": "vant_segmentation.ipynb",
      "provenance": []
    },
    "kernelspec": {
      "name": "python3",
      "display_name": "Python 3"
    }
  },
  "cells": [
    {
      "cell_type": "code",
      "metadata": {
        "id": "hi2NxTGMGhXU",
        "colab_type": "code",
        "colab": {
          "base_uri": "https://localhost:8080/",
          "height": 278
        },
        "outputId": "5778e818-46a8-4764-f95c-ea982d2ea4da"
      },
      "source": [
        "# repositório do yolov4 no tensorflow\n",
        "!git clone https://github.com/hunglc007/tensorflow-yolov4-tflite.git\n",
        "# reositório vant\n",
        "!git clone https://github.com/vitoryeso/ECT-proj-cnn-vant.git"
      ],
      "execution_count": 21,
      "outputs": [
        {
          "output_type": "stream",
          "text": [
            "/content\n",
            "Cloning into 'tensorflow-yolov4-tflite'...\n",
            "remote: Enumerating objects: 22, done.\u001b[K\n",
            "remote: Counting objects: 100% (22/22), done.\u001b[K\n",
            "remote: Compressing objects: 100% (17/17), done.\u001b[K\n",
            "remote: Total 704 (delta 6), reused 16 (delta 5), pack-reused 682\u001b[K\n",
            "Receiving objects: 100% (704/704), 176.13 MiB | 13.30 MiB/s, done.\n",
            "Resolving deltas: 100% (327/327), done.\n",
            "Cloning into 'ECT-proj-cnn-vant'...\n",
            "remote: Enumerating objects: 289, done.\u001b[K\n",
            "remote: Counting objects: 100% (289/289), done.\u001b[K\n",
            "remote: Compressing objects: 100% (201/201), done.\u001b[K\n",
            "remote: Total 289 (delta 81), reused 278 (delta 75), pack-reused 0\u001b[K\n",
            "Receiving objects: 100% (289/289), 3.50 MiB | 3.23 MiB/s, done.\n",
            "Resolving deltas: 100% (81/81), done.\n"
          ],
          "name": "stdout"
        }
      ]
    },
    {
      "cell_type": "code",
      "metadata": {
        "id": "61xHmZt4Gq7k",
        "colab_type": "code",
        "colab": {
          "base_uri": "https://localhost:8080/",
          "height": 34
        },
        "outputId": "50291c01-4e0f-4c20-cf09-f873343a2f11"
      },
      "source": [
        "%cd tensorflow-yolov4-tflite/"
      ],
      "execution_count": 22,
      "outputs": [
        {
          "output_type": "stream",
          "text": [
            "/content/tensorflow-yolov4-tflite\n"
          ],
          "name": "stdout"
        }
      ]
    },
    {
      "cell_type": "code",
      "metadata": {
        "id": "auNluEpYG-00",
        "colab_type": "code",
        "colab": {}
      },
      "source": [
        "import tensorflow as tf\n",
        "from core.yolov4 import YOLO, decode, filter_boxes\n",
        "import core.utils as utils\n",
        "from core.config import cfg"
      ],
      "execution_count": 23,
      "outputs": []
    },
    {
      "cell_type": "code",
      "metadata": {
        "id": "7YiFBEyWHEsh",
        "colab_type": "code",
        "colab": {}
      },
      "source": [
        "def load_config(tiny):\n",
        "    if tiny:\n",
        "        STRIDES = np.array(cfg.YOLO.STRIDES_TINY)\n",
        "        ANCHORS = get_anchors(cfg.YOLO.ANCHORS_TINY, tiny)\n",
        "        XYSCALE = cfg.YOLO.XYSCALE_TINY\n",
        "    else:\n",
        "        STRIDES = np.array(cfg.YOLO.STRIDES)\n",
        "        ANCHORS = utils.get_anchors(cfg.YOLO.ANCHORS, tiny)\n",
        "        XYSCALE = cfg.YOLO.XYSCALE\n",
        "    NUM_CLASS = len(utils.read_class_names(cfg.YOLO.CLASSES))\n",
        "\n",
        "    return STRIDES, ANCHORS, NUM_CLASS, XYSCALE"
      ],
      "execution_count": 24,
      "outputs": []
    },
    {
      "cell_type": "code",
      "metadata": {
        "id": "SvfBKTlzcdYJ",
        "colab_type": "code",
        "colab": {}
      },
      "source": [
        "input_size = 416\n",
        "tiny = False\n",
        "score_thresh = 0.5\n",
        "\n",
        "weights = \"\" #path pros pesos\n",
        "output = \"\" #path + nome pra salvar o modelo\n",
        "cfg.YOLO.CLASSES = \"/content/ECT-proj-cnn-vant/dataset/classes.names\""
      ],
      "execution_count": 25,
      "outputs": []
    },
    {
      "cell_type": "code",
      "metadata": {
        "id": "f0d21DtldnMr",
        "colab_type": "code",
        "colab": {}
      },
      "source": [
        "strides, anchors, num_class, xyscale = load_config(tiny)\n",
        "input_layer = tf.keras.layers.Input([input_size, input_size, 3])\n",
        "feature_maps = YOLO(input_layer, num_class, \"yolov4\", tiny)\n",
        "\n",
        "bbox_tensors = []\n",
        "prob_tensors = []"
      ],
      "execution_count": 28,
      "outputs": []
    },
    {
      "cell_type": "code",
      "metadata": {
        "id": "XOSBiKixeh7W",
        "colab_type": "code",
        "colab": {}
      },
      "source": [
        "if tiny:\n",
        "    for i, feature_map in enumerate(feature_maps):\n",
        "        if i == 0:\n",
        "            output_tensors = decode(feature_map, input_size // 16, num_class, strides, anchors, i, xyscale, \"tf\")\n",
        "        else:\n",
        "            output_tensors = decode(feature_map, input_size // 32, num_class, strides, anchors, i, xyscale, \"tf\")\n",
        "        bbox_tensors.append(output_tensors[0])\n",
        "        prob_tensors.append(output_tensors[1])\n",
        "else:\n",
        "    for i, feature_maps in enumerate(feature_maps):\n",
        "        if i == 0:\n",
        "            output_tensors = decode(feature_map, input_size // 8, num_class, strides, anchors, i , xy_scale, \"tf\")\n",
        "        elif i == 1:\n",
        "            output_tensors = decode(feature_map, input_size // 16, num_class, strides, anchors, i , xy_scale, \"tf\")\n",
        "        else:\n",
        "            output_tensors = decode(feature_map, input_size // 32, num_class, strides, anchors, i , xy_scale, \"tf\")\n",
        "        bbox_tensors.append(output_tensors[0])\n",
        "        prob_tensors.append(output_tensors[1])\n",
        "\n",
        "pred_bbox = tf.concat(bbox_tensors, axis=1)\n",
        "pred_prob = tf.concat(bbox_tensors, axis=1)\n",
        "\n",
        "boxes, pred_confidence = filter_boxes(pred_bbox, pred_prob, score_threshold=score_thresh, input_shape=tf.constant([input_size]*2))\n",
        "pred = tf.concat([boxes, pred_confidence], axis=-1)"
      ],
      "execution_count": null,
      "outputs": []
    },
    {
      "cell_type": "code",
      "metadata": {
        "id": "5eCXjfyCm6ua",
        "colab_type": "code",
        "colab": {}
      },
      "source": [
        "model = tf.keras.Model(input_layer, pred)\n"
      ],
      "execution_count": null,
      "outputs": []
    },
    {
      "cell_type": "code",
      "metadata": {
        "id": "gGYOE6lWnAGu",
        "colab_type": "code",
        "colab": {}
      },
      "source": [
        "utils.load_weights(model, weights, \"yolov4\", tiny)"
      ],
      "execution_count": null,
      "outputs": []
    },
    {
      "cell_type": "code",
      "metadata": {
        "id": "W3t6SgOTnESg",
        "colab_type": "code",
        "colab": {}
      },
      "source": [
        "model.summary()\n",
        "\n",
        "# se quiser salvar o modelo\n",
        "# model.save(\"name\")"
      ],
      "execution_count": null,
      "outputs": []
    }
  ]
}